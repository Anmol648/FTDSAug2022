{
 "cells": [
  {
   "cell_type": "markdown",
   "id": "4b130510",
   "metadata": {},
   "source": [
    "Write a function longestpath(dict) that finds the length of a longest path, (a : b) → (b : c) → ··· in a dictionary dict.It counts each pointer from a key to a value as one step. For example, the path (a : b) → (b : c) has length 2 because the path will have two steps as shown here: a → b → c"
   ]
  },
  {
   "cell_type": "code",
   "execution_count": 4,
   "id": "73036422",
   "metadata": {},
   "outputs": [],
   "source": [
    "def longestpath (dict):\n",
    "    #Initialise the length of the longest path to zero\n",
    "    max_length = 0\n",
    "    #Loop through each key in the dictionary\n",
    "    for key in dict:\n",
    "        #Create an empty list\n",
    "        list1 = []\n",
    "        #Start from the key, keep loop as long as the key is a valid key in the dictionary\n",
    "        while key in dict:\n",
    "            if key not in list1:\n",
    "                list1.append(key)\n",
    "                #Setting the value that corresponds to the key as a new one for the next iteration\n",
    "                key = dict[key]\n",
    "            else:\n",
    "                break\n",
    "        #At the end, if the length of the path list is bigger than maxx_length, set the length of the list as max\n",
    "        if len(list1) > max_length:\n",
    "            max_length = len(list1)\n",
    "    return max_length\n",
    "                    "
   ]
  },
  {
   "cell_type": "code",
   "execution_count": 5,
   "id": "8182cec1",
   "metadata": {},
   "outputs": [
    {
     "name": "stdout",
     "output_type": "stream",
     "text": [
      "6\n"
     ]
    }
   ],
   "source": [
    "#Example 1\n",
    "dict ={'a':'b', 'b':'c', 'c':'d', 'd':'e', 'e':'f', 'f':'a'}\n",
    "print(longestpath(dict))"
   ]
  },
  {
   "cell_type": "code",
   "execution_count": 6,
   "id": "61a19ffb",
   "metadata": {},
   "outputs": [
    {
     "name": "stdout",
     "output_type": "stream",
     "text": [
      "2\n"
     ]
    }
   ],
   "source": [
    "#Example 2\n",
    "dict ={'a':'b', 'b':'a'}\n",
    "print(longestpath(dict))"
   ]
  },
  {
   "cell_type": "code",
   "execution_count": 7,
   "id": "e5af3654",
   "metadata": {},
   "outputs": [
    {
     "name": "stdout",
     "output_type": "stream",
     "text": [
      "4\n"
     ]
    }
   ],
   "source": [
    "#Example 3\n",
    "dict ={'Amy':'Bob', 'Bob':'Cat', 'Cat':'David', 'David':'Emily'}\n",
    "print(longestpath(dict))"
   ]
  },
  {
   "cell_type": "code",
   "execution_count": 8,
   "id": "be09ea63",
   "metadata": {},
   "outputs": [
    {
     "name": "stdout",
     "output_type": "stream",
     "text": [
      "1\n"
     ]
    }
   ],
   "source": [
    "#Example 4\n",
    "dict={ 'a':'b'}\n",
    "print(longestpath(dict))"
   ]
  },
  {
   "cell_type": "code",
   "execution_count": 9,
   "id": "c1fe9566",
   "metadata": {},
   "outputs": [
    {
     "name": "stdout",
     "output_type": "stream",
     "text": [
      "3\n"
     ]
    }
   ],
   "source": [
    "#Example 5\n",
    "dict={'Amy':'Dog', 'Bob':'Cat', 'David':'Emily','Cat':'David'}\n",
    "print(longestpath(dict))"
   ]
  },
  {
   "cell_type": "code",
   "execution_count": null,
   "id": "61ec551c",
   "metadata": {},
   "outputs": [],
   "source": []
  }
 ],
 "metadata": {
  "kernelspec": {
   "display_name": "Python 3 (ipykernel)",
   "language": "python",
   "name": "python3"
  },
  "language_info": {
   "codemirror_mode": {
    "name": "ipython",
    "version": 3
   },
   "file_extension": ".py",
   "mimetype": "text/x-python",
   "name": "python",
   "nbconvert_exporter": "python",
   "pygments_lexer": "ipython3",
   "version": "3.9.7"
  }
 },
 "nbformat": 4,
 "nbformat_minor": 5
}
