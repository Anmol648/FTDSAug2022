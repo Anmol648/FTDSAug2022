{
 "cells": [
  {
   "cell_type": "code",
   "execution_count": 1,
   "id": "030cf4af",
   "metadata": {},
   "outputs": [],
   "source": [
    "from bs4 import BeautifulSoup\n",
    "import requests"
   ]
  },
  {
   "cell_type": "code",
   "execution_count": 10,
   "id": "c212d385",
   "metadata": {},
   "outputs": [
    {
     "name": "stdout",
     "output_type": "stream",
     "text": [
      "Title of the book :A Light in the Attic\n",
      "Price of the book :£51.77\n",
      "Title of the book :Tipping the Velvet\n",
      "Price of the book :£53.74\n",
      "Title of the book :Soumission\n",
      "Price of the book :£50.10\n",
      "Title of the book :Sharp Objects\n",
      "Price of the book :£47.82\n",
      "Title of the book :Sapiens: A Brief History of Humankind\n",
      "Price of the book :£54.23\n",
      "Title of the book :The Requiem Red\n",
      "Price of the book :£22.65\n",
      "Title of the book :The Dirty Little Secrets of Getting Your Dream Job\n",
      "Price of the book :£33.34\n",
      "Title of the book :The Coming Woman: A Novel Based on the Life of the Infamous Feminist, Victoria Woodhull\n",
      "Price of the book :£17.93\n",
      "Title of the book :The Boys in the Boat: Nine Americans and Their Epic Quest for Gold at the 1936 Berlin Olympics\n",
      "Price of the book :£22.60\n",
      "Title of the book :The Black Maria\n",
      "Price of the book :£52.15\n",
      "Title of the book :Starving Hearts (Triangular Trade Trilogy, #1)\n",
      "Price of the book :£13.99\n",
      "Title of the book :Shakespeare's Sonnets\n",
      "Price of the book :£20.66\n",
      "Title of the book :Set Me Free\n",
      "Price of the book :£17.46\n",
      "Title of the book :Scott Pilgrim's Precious Little Life (Scott Pilgrim #1)\n",
      "Price of the book :£52.29\n",
      "Title of the book :Rip it Up and Start Again\n",
      "Price of the book :£35.02\n",
      "Title of the book :Our Band Could Be Your Life: Scenes from the American Indie Underground, 1981-1991\n",
      "Price of the book :£57.25\n",
      "Title of the book :Olio\n",
      "Price of the book :£23.88\n",
      "Title of the book :Mesaerion: The Best Science Fiction Stories 1800-1849\n",
      "Price of the book :£37.59\n",
      "Title of the book :Libertarianism for Beginners\n",
      "Price of the book :£51.33\n",
      "Title of the book :It's Only the Himalayas\n",
      "Price of the book :£45.17\n"
     ]
    }
   ],
   "source": [
    "# import web grabbing client and\n",
    "# HTML parser\n",
    "from urllib.request import urlopen as uReq\n",
    "from bs4 import BeautifulSoup as soup\n",
    " \n",
    "# variable to store website link as string\n",
    "myurl = 'http://books.toscrape.com/index.html'\n",
    " \n",
    "# grab website and store in variable uclient\n",
    "uClient = uReq(myurl)\n",
    " \n",
    "# read and close HTML\n",
    "page_html = uClient.read()\n",
    "uClient.close()\n",
    " \n",
    "# call BeautifulSoup for parsing\n",
    "page_soup = soup(page_html, \"html.parser\")\n",
    " \n",
    "# grabs all the products under list tag\n",
    "bookshelf = page_soup.findAll(\n",
    "    \"li\", {\"class\": \"col-xs-6 col-sm-4 col-md-3 col-lg-3\"})\n",
    " \n",
    "# create csv file of all products\n",
    "filename = (\"Books.csv\")\n",
    "f = open(filename, \"w\")\n",
    " \n",
    "headers = \"Book title, Price\\n\"\n",
    "f.write(headers)\n",
    " \n",
    "for books in bookshelf:\n",
    " \n",
    "    # collect title of all books\n",
    "    book_title = books.h3.a[\"title\"]\n",
    " \n",
    "    # collect book price of all books\n",
    "    book_price = books.findAll(\"p\", {\"class\": \"price_color\"})\n",
    "    price = book_price[0].text.strip()\n",
    " \n",
    "    print(\"Title of the book :\" + book_title)\n",
    "    print(\"Price of the book :\" + price)\n",
    " \n",
    "    f.write(book_title + \",\" + price+\"\\n\")\n",
    " \n",
    "f.close()"
   ]
  },
  {
   "cell_type": "code",
   "execution_count": null,
   "id": "6eede28a",
   "metadata": {},
   "outputs": [],
   "source": []
  }
 ],
 "metadata": {
  "kernelspec": {
   "display_name": "Python 3 (ipykernel)",
   "language": "python",
   "name": "python3"
  },
  "language_info": {
   "codemirror_mode": {
    "name": "ipython",
    "version": 3
   },
   "file_extension": ".py",
   "mimetype": "text/x-python",
   "name": "python",
   "nbconvert_exporter": "python",
   "pygments_lexer": "ipython3",
   "version": "3.9.7"
  }
 },
 "nbformat": 4,
 "nbformat_minor": 5
}
