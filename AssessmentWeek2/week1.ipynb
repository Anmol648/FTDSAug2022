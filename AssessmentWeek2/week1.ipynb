{
 "cells": [
  {
   "cell_type": "code",
   "execution_count": 10,
   "id": "80182957",
   "metadata": {},
   "outputs": [],
   "source": [
    "#Week 1 Test\n",
    "\n",
    "# For file with only numbers, you should only return one thing(i.e.the first 10 characters)\n",
    "\n",
    "# For file with story,you NEED to return two things(i.e. a modified string AND a list)\n",
    "#  you can return multiple values by simply return them separated by commas like the following\n",
    "# def editor(fname):\n",
    "#\n",
    "#     return 'modifystring', [a,b,c,d]\n",
    "\n",
    "# HINT: to call your function for the story.txt file, use the following command\n",
    "# editor(\"./data/story.txt\")\n",
    "# return statement should be in the format below\n",
    "# return 'modifystring', [a,b,c,d]\n",
    "\n",
    "import os\n",
    "\n",
    "\n",
    "def editor(fname):\n",
    "    #YOUR CODE STARTS HERE\n",
    "    from collections import Counter\n",
    "    \n",
    "    with open(fname,'r') as f: #f is the filehandle\n",
    "        word = f.read()\n",
    "        word2 = word.split()\n",
    "    if word.isdigit():\n",
    "        print(word[:11])\n",
    "    else:\n",
    "        str1 = word.lower().strip('\\n')\n",
    "        Counter = Counter(word2)\n",
    "        frequency = Counter.most_common(5)\n",
    "        new_list = [i[0] for i in x] \n",
    "        print(new_list)\n",
    "        return str1, new_list\n",
    "    \n",
    "    editor(\"/Users/anmolthadani/Downloads/AssessmentWeek2/data/number.txt\")"
   ]
  },
  {
   "cell_type": "code",
   "execution_count": null,
   "id": "96f268ed",
   "metadata": {},
   "outputs": [],
   "source": []
  }
 ],
 "metadata": {
  "kernelspec": {
   "display_name": "Python 3 (ipykernel)",
   "language": "python",
   "name": "python3"
  },
  "language_info": {
   "codemirror_mode": {
    "name": "ipython",
    "version": 3
   },
   "file_extension": ".py",
   "mimetype": "text/x-python",
   "name": "python",
   "nbconvert_exporter": "python",
   "pygments_lexer": "ipython3",
   "version": "3.9.7"
  }
 },
 "nbformat": 4,
 "nbformat_minor": 5
}
